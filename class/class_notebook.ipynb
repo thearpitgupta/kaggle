{
 "metadata": {
  "name": "",
  "signature": "sha256:e00068548bede59379e7c19469908465aa3fcaa85b4f5c3df87bc253e9859df6"
 },
 "nbformat": 3,
 "nbformat_minor": 0,
 "worksheets": [
  {
   "cells": [
    {
     "cell_type": "code",
     "collapsed": false,
     "input": [
      "import pandas as pd"
     ],
     "language": "python",
     "metadata": {},
     "outputs": [],
     "prompt_number": 1
    },
    {
     "cell_type": "code",
     "collapsed": false,
     "input": [
      "def print_stats_for_survivors_based_on_Pclass (df):\n",
      "    # Simple function to print survivor stats for any dataframe with Pclass and Survived\n",
      "    number_passengers = len(df.index)\n",
      "    number_survived = len(df[(df.Survived == 1)].index)\n",
      "    proportion_survivors = float(number_survived) / float(number_passengers )\n",
      "\n",
      "    df_stat_for_review = pd.DataFrame([[ len(df[df.Pclass == 1].index) ,len(df[(df.Pclass == 1) & (df.Survived==1)].index), float( len(df[(df.Pclass == 1) & (df.Survived==1)].index)) / float (len(df[df.Pclass == 1].index))],\n",
      "        [ len(df[df.Pclass == 2].index) ,len(df[(df.Pclass == 2) & (df.Survived==1)].index), float( len(df[(df.Pclass == 2) & (df.Survived==1)].index)) / float (len(df[df.Pclass == 2].index))],\n",
      "        [ len(df[df.Pclass == 3].index) ,len(df[(df.Pclass == 3) & (df.Survived==1)].index), float( len(df[(df.Pclass == 3) & (df.Survived==1)].index)) / float (len(df[df.Pclass == 3].index))],\n",
      "        [ number_passengers, number_survived, proportion_survivors]\n",
      "        ],\n",
      "                  columns=[\"Onboard\", \"Survived\" , \"% Survived\"],\n",
      "                  index=[\"Class 1\" ,\"Class 2\", \"Class 3\", \"Total\"])\n",
      "\n",
      "\n",
      "    print df_stat_for_review     "
     ],
     "language": "python",
     "metadata": {},
     "outputs": [],
     "prompt_number": 2
    },
    {
     "cell_type": "code",
     "collapsed": false,
     "input": [
      "print \"\\tStats on the Training Dataset\"\n",
      "print_stats_for_survivors_based_on_Pclass(pd.read_csv('../Data/train.csv', header=0))"
     ],
     "language": "python",
     "metadata": {},
     "outputs": [
      {
       "output_type": "stream",
       "stream": "stdout",
       "text": [
        "\tStats on the Training Dataset\n",
        "         Onboard  Survived  % Survived\n",
        "Class 1      216       136    0.629630\n",
        "Class 2      184        87    0.472826\n",
        "Class 3      491       119    0.242363\n",
        "Total        891       342    0.383838\n"
       ]
      }
     ],
     "prompt_number": 3
    },
    {
     "cell_type": "code",
     "collapsed": false,
     "input": [
      "df_test = pd.read_csv('../Data/test.csv', header=0)\n",
      "\n",
      "## Pclass Model\n",
      "model_name = \"class\"              \n",
      "df_test['Survived'] = 0\n",
      "df_test.loc[df_test['Pclass']==1, 'Survived']=1\n",
      "print \"\\n\\tStats on the Test Dataset\"\n",
      "print_stats_for_survivors_based_on_Pclass(df_test)"
     ],
     "language": "python",
     "metadata": {},
     "outputs": [
      {
       "output_type": "stream",
       "stream": "stdout",
       "text": [
        "\n",
        "\tStats on the Test Dataset\n",
        "         Onboard  Survived  % Survived\n",
        "Class 1      107       107    1.000000\n",
        "Class 2       93         0    0.000000\n",
        "Class 3      218         0    0.000000\n",
        "Total        418       107    0.255981\n"
       ]
      }
     ],
     "prompt_number": 4
    },
    {
     "cell_type": "code",
     "collapsed": false,
     "input": [
      "# Export to csv\n",
      "df_test[['PassengerId', 'Survived']].to_csv(\"output_{}.csv\".format(model_name), index= None)"
     ],
     "language": "python",
     "metadata": {},
     "outputs": [],
     "prompt_number": 5
    }
   ],
   "metadata": {}
  }
 ]
}