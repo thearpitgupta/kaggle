{
 "metadata": {
  "name": "",
  "signature": "sha256:ec96e97f58a3d57568253b10349dade8f58ab379cd7c5c63d496d0dc088d8d68"
 },
 "nbformat": 3,
 "nbformat_minor": 0,
 "worksheets": [
  {
   "cells": [
    {
     "cell_type": "code",
     "collapsed": false,
     "input": [
      "import pandas as pd"
     ],
     "language": "python",
     "metadata": {},
     "outputs": [],
     "prompt_number": 4
    },
    {
     "cell_type": "code",
     "collapsed": false,
     "input": [
      "def print_stats (df):\n",
      "    # Simple function to print survivor stats for any dataframe with Sex and Survived\n",
      "    number_passengers = len(df.index)\n",
      "    number_survived = len(df[(df.Survived == 1)].index)\n",
      "    proportion_survivors = float(number_survived) / float(number_passengers )\n",
      "\n",
      "    women_onboard = len(df[(df.Sex == 'female')].index)\n",
      "    men_onboard = len(df[(df.Sex == 'male')].index)\n",
      "\n",
      "    women_survived =  len(df[( (df.Sex == 'female') & (df.Survived ==1) )].index)\n",
      "    male_survived = len(df[( (df.Sex == 'male') & (df.Survived ==1) )].index)\n",
      " \n",
      "    proportion_women_survived = float( len(df[( (df.Sex == 'female') & (df.Survived ==1) )].index) )  / float(women_onboard )\n",
      "    proportion_men_survived = float( len(df[( (df.Sex == 'male') & (df.Survived ==1) )].index) )  / float(men_onboard )\n",
      "\n",
      "    df_stat_for_review = pd.DataFrame([[women_onboard,women_survived, (proportion_women_survived*100)],\n",
      "                                       [men_onboard,male_survived, (proportion_men_survived*100)],\n",
      "                                       [number_passengers,number_survived, (proportion_survivors*100)]\n",
      "                                    ],\n",
      "                  columns=[\"Onboard\", \"Survived\" , \"% Survived\"],\n",
      "                  index=[\"female\",\"male\", \"total\"])\n",
      "                  \n",
      "    print df_stat_for_review   "
     ],
     "language": "python",
     "metadata": {},
     "outputs": [],
     "prompt_number": 5
    },
    {
     "cell_type": "code",
     "collapsed": false,
     "input": [
      "print \"\\tStats on the Training Dataset\"\n",
      "print_stats(pd.read_csv('../Data/train.csv', header=0))\n",
      "df_test = pd.read_csv('../Data/test.csv', header=0)"
     ],
     "language": "python",
     "metadata": {},
     "outputs": [
      {
       "output_type": "stream",
       "stream": "stdout",
       "text": [
        "\tStats on the Training Dataset\n",
        "        Onboard  Survived  % Survived\n",
        "female      314       233   74.203822\n",
        "male        577       109   18.890815\n",
        "total       891       342   38.383838\n"
       ]
      }
     ],
     "prompt_number": 6
    },
    {
     "cell_type": "code",
     "collapsed": false,
     "input": [
      "## Gender Model\n",
      "model_name = \"gender\"              \n",
      "df_test['Survived'] = 0\n",
      "df_test.loc[df_test['Sex']=='female', 'Survived']=1\n",
      "print \"\\n\\tStats on the Test Dataset\"\n",
      "print_stats(df_test)"
     ],
     "language": "python",
     "metadata": {},
     "outputs": [
      {
       "output_type": "stream",
       "stream": "stdout",
       "text": [
        "\n",
        "\tStats on the Test Dataset\n",
        "        Onboard  Survived  % Survived\n",
        "female      152       152  100.000000\n",
        "male        266         0    0.000000\n",
        "total       418       152   36.363636\n"
       ]
      }
     ],
     "prompt_number": 7
    },
    {
     "cell_type": "code",
     "collapsed": false,
     "input": [
      "# Export to csv\n",
      "df_test[['PassengerId', 'Survived']].to_csv(\"output_{}.csv\".format(model_name), index= None)"
     ],
     "language": "python",
     "metadata": {},
     "outputs": [],
     "prompt_number": 8
    }
   ],
   "metadata": {}
  }
 ]
}