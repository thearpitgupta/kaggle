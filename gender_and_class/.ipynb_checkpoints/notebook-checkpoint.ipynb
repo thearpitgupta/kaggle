{
 "metadata": {
  "name": "",
  "signature": "sha256:c794e69a6d367f2a80642f7d11dfc199324a6279ba409e9c9684629885575f96"
 },
 "nbformat": 3,
 "nbformat_minor": 0,
 "worksheets": [
  {
   "cells": [
    {
     "cell_type": "code",
     "collapsed": false,
     "input": [
      "import pandas as pd"
     ],
     "language": "python",
     "metadata": {},
     "outputs": [],
     "prompt_number": 2
    },
    {
     "cell_type": "code",
     "collapsed": false,
     "input": [
      "def print_stats_based_on_Sex_and_Pclass (df):\n",
      "     #Simple function to print survivor stats for any dataframe with Sex, Pclass, and Survived\n",
      "\n",
      "    df_stat_for_review = pd.DataFrame([[ len(df[(df.Pclass == 1) & (df.Sex=='female')].index) ,len(df[(df.Pclass == 1) & (df.Sex=='female') & (df.Survived==1)].index), float( len(df[(df.Pclass == 1) & (df.Sex=='female')  & (df.Survived==1)].index)) / float (len(df[(df.Pclass == 1) & (df.Sex=='female') ].index))],\n",
      "                    [ len(df[(df.Pclass == 2) & (df.Sex=='female')].index) ,len(df[(df.Pclass == 2) & (df.Sex=='female') & (df.Survived==1)].index), float( len(df[(df.Pclass == 2) & (df.Sex=='female')  & (df.Survived==1)].index)) / float (len(df[(df.Pclass == 2) & (df.Sex=='female') ].index))],\n",
      "                    [ len(df[(df.Pclass == 3) & (df.Sex=='female')].index) ,len(df[(df.Pclass == 3) & (df.Sex=='female') & (df.Survived==1)].index), float( len(df[(df.Pclass == 3) & (df.Sex=='female')  & (df.Survived==1)].index)) / float (len(df[(df.Pclass == 3) & (df.Sex=='female') ].index))],\n",
      "                    [ len(df[(df.Pclass == 1) & (df.Sex=='male')].index) ,len(df[(df.Pclass == 1) & (df.Sex=='male') & (df.Survived==1)].index), float( len(df[(df.Pclass == 1) & (df.Sex=='male')  & (df.Survived==1)].index)) / float (len(df[(df.Pclass == 1) & (df.Sex=='male') ].index))],\n",
      "                    [ len(df[(df.Pclass == 2) & (df.Sex=='male')].index) ,len(df[(df.Pclass == 2) & (df.Sex=='male') & (df.Survived==1)].index), float( len(df[(df.Pclass == 2) & (df.Sex=='male')  & (df.Survived==1)].index)) / float (len(df[(df.Pclass == 2) & (df.Sex=='male') ].index))],\n",
      "                    [ len(df[(df.Pclass == 3) & (df.Sex=='male')].index) ,len(df[(df.Pclass == 3) & (df.Sex=='male') & (df.Survived==1)].index), float( len(df[(df.Pclass == 3) & (df.Sex=='male')  & (df.Survived==1)].index)) / float (len(df[(df.Pclass == 3) & (df.Sex=='male') ].index))],\n",
      "                    [ len(df.index) , len(df[(df.Survived == 1)].index)\t, float(len(df[(df.Survived == 1)].index)) / float(len(df.index) ) ]   ],\n",
      "                  columns=[\"Onboard\", \"Survived\" , \"% Survived\"],\n",
      "                  index=[\"Female/Class 1\" ,\"Female/Class 2\", \"Female/Class 3\", \"Male/Class 1\" ,\"Male/Class 2\", \"Male/Class 3\", \"Total\"])\n",
      "    print df_stat_for_review   \n"
     ],
     "language": "python",
     "metadata": {},
     "outputs": [],
     "prompt_number": 3
    },
    {
     "cell_type": "code",
     "collapsed": false,
     "input": [
      "print \"\\tStats on the Training Dataset\"\n",
      "print_stats_based_on_Sex_and_Pclass(pd.read_csv('../Data/train.csv', header=0))"
     ],
     "language": "python",
     "metadata": {},
     "outputs": [
      {
       "output_type": "stream",
       "stream": "stdout",
       "text": [
        "\tStats on the Training Dataset\n",
        "                Onboard  Survived  % Survived\n",
        "Female/Class 1       94        91    0.968085\n",
        "Female/Class 2       76        70    0.921053\n",
        "Female/Class 3      144        72    0.500000\n",
        "Male/Class 1        122        45    0.368852\n",
        "Male/Class 2        108        17    0.157407\n",
        "Male/Class 3        347        47    0.135447\n",
        "Total               891       342    0.383838"
       ]
      },
      {
       "output_type": "stream",
       "stream": "stdout",
       "text": [
        "\n"
       ]
      }
     ],
     "prompt_number": 4
    },
    {
     "cell_type": "code",
     "collapsed": false,
     "input": [
      "df_test = pd.read_csv('../Data/test.csv', header=0)\n",
      "\n",
      "## Sex and Pclass Model\n",
      "model_name = \"Sex_and_class\"              \n",
      "df_test['Survived'] = 0\n",
      "df_test.loc[df_test['Sex']=='female', 'Survived']=1  # All females still get Survived = 1\n",
      "# Male/Class 1 only have survival rate of 35% but still applying all Male/Class 1 to make slight \n",
      "# \timprovement in the model. \n",
      "\n",
      "df_test.loc[ (df_test['Sex']=='male') & (df_test['Pclass']==1), 'Survived']=1"
     ],
     "language": "python",
     "metadata": {},
     "outputs": [],
     "prompt_number": 5
    },
    {
     "cell_type": "code",
     "collapsed": false,
     "input": [
      "print \"\\n\\tStats on the Test Dataset\"\n",
      "print_stats_based_on_Sex_and_Pclass(df_test)"
     ],
     "language": "python",
     "metadata": {},
     "outputs": [
      {
       "output_type": "stream",
       "stream": "stdout",
       "text": [
        "\n",
        "\tStats on the Test Dataset\n",
        "                Onboard  Survived  % Survived\n",
        "Female/Class 1       50        50         1.0\n",
        "Female/Class 2       30        30         1.0\n",
        "Female/Class 3       72        72         1.0\n",
        "Male/Class 1         57        57         1.0\n",
        "Male/Class 2         63         0         0.0\n",
        "Male/Class 3        146         0         0.0\n",
        "Total               418       209         0.5"
       ]
      },
      {
       "output_type": "stream",
       "stream": "stdout",
       "text": [
        "\n"
       ]
      }
     ],
     "prompt_number": 6
    },
    {
     "cell_type": "code",
     "collapsed": false,
     "input": [
      "# Export to csv\n",
      "df_test[['PassengerId', 'Survived']].to_csv(\"output_{}.csv\".format(model_name), index= None)"
     ],
     "language": "python",
     "metadata": {},
     "outputs": [],
     "prompt_number": 7
    }
   ],
   "metadata": {}
  }
 ]
}